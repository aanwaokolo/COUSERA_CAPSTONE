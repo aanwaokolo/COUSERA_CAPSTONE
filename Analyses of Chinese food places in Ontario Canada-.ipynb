{
    "cells": [
        {
            "cell_type": "markdown",
            "metadata": {
                "collapsed": true
            },
            "source": "# Introduction/Business Problem"
        },
        {
            "cell_type": "markdown",
            "metadata": {},
            "source": "All over the world Chinese cuisine has become very popular for people who want to hangout with friends, go on romantic dates or just grab quick take away.\nOntario is Canada's second largest province,With a population of more than 13.5 million, having over 85% living in urban towns and people who love to enjoy the good things. In this project we would be analysing the different chinese food places in Ontario to show the most popular categories."
        },
        {
            "cell_type": "markdown",
            "metadata": {},
            "source": "# Data"
        },
        {
            "cell_type": "markdown",
            "metadata": {},
            "source": "For this project i used 'https://en.wikipedia.org/wiki/Category:Towns_in_Ontario' to get details of towns in Ontario for my analysis. I used Opencage geocode for my geographical coordinates. \nI also used foursquare API to get details of Chinese food places in Ontario."
        }
    ],
    "metadata": {
        "kernelspec": {
            "display_name": "Python 3.6",
            "language": "python",
            "name": "python3"
        },
        "language_info": {
            "codemirror_mode": {
                "name": "ipython",
                "version": 3
            },
            "file_extension": ".py",
            "mimetype": "text/x-python",
            "name": "python",
            "nbconvert_exporter": "python",
            "pygments_lexer": "ipython3",
            "version": "3.6.9"
        }
    },
    "nbformat": 4,
    "nbformat_minor": 1
}